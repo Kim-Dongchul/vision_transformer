{
 "cells": [
  {
   "cell_type": "code",
   "id": "initial_id",
   "metadata": {
    "collapsed": true,
    "ExecuteTime": {
     "end_time": "2024-11-25T08:59:40.857713Z",
     "start_time": "2024-11-25T08:59:39.080107Z"
    }
   },
   "source": [
    "from collections import namedtuple\n",
    "\n",
    "import torch\n",
    "import torch.nn as nn\n",
    "import torch.optim as optim\n",
    "from torch.cuda import device\n",
    "from torch.utils.data import DataLoader, Dataset\n",
    "from torchvision import transforms\n",
    "import pandas as pd\n",
    "import os\n",
    "from util.train_util import train, evaluate\n",
    "from PIL import Image\n",
    "# from transformers import ViTForImageClassification\n",
    "from torchinfo import summary\n",
    "from model.vision_transformer import VisionTransformer\n",
    "from torch.cuda import is_available\n",
    "from util.train_util import train_and_evaluate"
   ],
   "outputs": [],
   "execution_count": 1
  },
  {
   "metadata": {
    "ExecuteTime": {
     "end_time": "2024-11-25T08:59:40.863717Z",
     "start_time": "2024-11-25T08:59:40.860717Z"
    }
   },
   "cell_type": "code",
   "source": [
    "class CustomDataset(Dataset):\n",
    "    def __init__(self, csv_file, root_dir, transform=None):\n",
    "        self.annotations = pd.read_csv(csv_file)\n",
    "        self.root_dir = root_dir\n",
    "        self.transform = transform\n",
    "\n",
    "    def __len__(self):\n",
    "        return len(self.annotations)\n",
    "\n",
    "    def __getitem__(self, idx):\n",
    "        img_name = os.path.join(self.root_dir, self.annotations.iloc[idx, 0]+'.jpg')\n",
    "        image = Image.open(img_name)\n",
    "        y_label = torch.tensor(self.annotations.iloc[idx, 1:].values.astype(float))\n",
    "        \n",
    "        if self.transform:\n",
    "            image = self.transform(image)\n",
    "\n",
    "        return image, y_label"
   ],
   "id": "ff89d5c57d8dc880",
   "outputs": [],
   "execution_count": 2
  },
  {
   "metadata": {
    "ExecuteTime": {
     "end_time": "2024-11-25T08:59:40.929037Z",
     "start_time": "2024-11-25T08:59:40.923207Z"
    }
   },
   "cell_type": "code",
   "source": [
    "transform = transforms.Compose([\n",
    "    transforms.Resize((224, 224)),\n",
    "    transforms.ToTensor(),\n",
    "    transforms.Normalize(mean=[0.485, 0.456, 0.406], std=[0.229, 0.224, 0.225])\n",
    "])\n",
    "\n",
    "train_set = CustomDataset(csv_file='train.csv', root_dir='images', transform=transform)\n",
    "train_loader = DataLoader(dataset=train_set, batch_size=16, shuffle=True, drop_last=True)"
   ],
   "id": "397742b5a81ecec0",
   "outputs": [],
   "execution_count": 3
  },
  {
   "metadata": {
    "ExecuteTime": {
     "end_time": "2024-11-25T08:59:41.047428Z",
     "start_time": "2024-11-25T08:59:40.935040Z"
    }
   },
   "cell_type": "code",
   "source": [
    "# model = VisionTransformer(trains_shape, patch_size, 4, 10, 768, 12, 3072, 0.1, device='cuda:0')\n",
    "device = \"cpu\"\n",
    "if is_available():\n",
    "    device = \"cuda:0\"\n",
    "model = VisionTransformer((16, 3, 224, 224), 16, 12, 4, 768, 12, 3072, 0.1, device=device)\n",
    "# if device == 'cuda:0':\n",
    "    # if device_count() > 1:\n",
    "    #     model = DataParallel(model)\n",
    "model.to(device)\n",
    "summary(model)"
   ],
   "id": "fe65b16888e9f585",
   "outputs": [
    {
     "data": {
      "text/plain": [
       "=================================================================\n",
       "Layer (type:depth-idx)                   Param #\n",
       "=================================================================\n",
       "VisionTransformer                        --\n",
       "├─PatchEmbedding: 1-1                    163,584\n",
       "│    └─Flatten: 2-1                      --\n",
       "├─Linear: 1-2                            2,362,368\n",
       "├─Linear: 1-3                            12,292\n",
       "=================================================================\n",
       "Total params: 2,538,244\n",
       "Trainable params: 2,538,244\n",
       "Non-trainable params: 0\n",
       "================================================================="
      ]
     },
     "execution_count": 4,
     "metadata": {},
     "output_type": "execute_result"
    }
   ],
   "execution_count": 4
  },
  {
   "metadata": {
    "jupyter": {
     "is_executing": true
    },
    "ExecuteTime": {
     "start_time": "2024-11-25T08:59:41.051837Z"
    }
   },
   "cell_type": "code",
   "source": [
    "criterion = nn.CrossEntropyLoss()\n",
    "optimizer = optim.Adam(model.parameters(), lr=5e-4)\n",
    "num_epochs = 1000\n",
    "\n",
    "train_and_evaluate(model, train_loader, None, criterion, optimizer, num_epochs, device)"
   ],
   "id": "3d29346b97d46a0f",
   "outputs": [],
   "execution_count": null
  },
  {
   "metadata": {},
   "cell_type": "code",
   "source": "",
   "id": "dcfc8ccc0d98b9ef",
   "outputs": [],
   "execution_count": null
  }
 ],
 "metadata": {
  "kernelspec": {
   "display_name": "Python 3",
   "language": "python",
   "name": "python3"
  },
  "language_info": {
   "codemirror_mode": {
    "name": "ipython",
    "version": 2
   },
   "file_extension": ".py",
   "mimetype": "text/x-python",
   "name": "python",
   "nbconvert_exporter": "python",
   "pygments_lexer": "ipython2",
   "version": "2.7.6"
  }
 },
 "nbformat": 4,
 "nbformat_minor": 5
}
